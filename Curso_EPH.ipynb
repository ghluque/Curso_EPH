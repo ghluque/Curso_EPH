{
  "nbformat": 4,
  "nbformat_minor": 0,
  "metadata": {
    "colab": {
      "name": "Curso EPH.ipynb",
      "provenance": [],
      "authorship_tag": "ABX9TyMqkBfIcjx+owguNPSB28hH",
      "include_colab_link": true
    },
    "kernelspec": {
      "name": "python3",
      "display_name": "Python 3"
    },
    "language_info": {
      "name": "python"
    }
  },
  "cells": [
    {
      "cell_type": "markdown",
      "metadata": {
        "id": "view-in-github",
        "colab_type": "text"
      },
      "source": [
        "<a href=\"https://colab.research.google.com/github/ghluque/Curso_EPH/blob/main/Curso_EPH.ipynb\" target=\"_parent\"><img src=\"https://colab.research.google.com/assets/colab-badge.svg\" alt=\"Open In Colab\"/></a>"
      ]
    },
    {
      "cell_type": "code",
      "execution_count": null,
      "metadata": {
        "id": "n5zIcAhUgfHh"
      },
      "outputs": [],
      "source": [
        ""
      ]
    },
    {
      "cell_type": "markdown",
      "source": [
        "# **Curso EPH en Python**\n",
        "\n",
        "LÓGICA SINTÁCTICA\n",
        "\n",
        "Definición de objetos\n",
        "\n",
        "Los Objetos/Elementos constituyen la categoría escencial de Python. De hecho, todo en Python es un objeto, y se almacena con un nombre específico que **NO debe poseer espacios.** Un número, un vector, una función, la progresión de letras del abecedario, una base de datos, un gráfico, constituyen para Python objetos de distinto tipo. Los objetos que vamos creando a medida que trabajamos pueden visualizarse.\n",
        "\n",
        "El operador **=** sirve para definir un objeto. A la izquierda del <- debe ubicarse el nombre que tomará el elemento a crear. Del lado derecho debe ir la definición del mismo.\n"
      ],
      "metadata": {
        "id": "48hKAaXSh5AH"
      }
    },
    {
      "cell_type": "code",
      "source": [
        "A = 1"
      ],
      "metadata": {
        "id": "kSQlt77clWdF"
      },
      "execution_count": 1,
      "outputs": []
    },
    {
      "cell_type": "markdown",
      "source": [
        "Al definir un elemento, el mismo queda guardado en el ambiente del programa, y podrá ser utilizado posteriormente para observar su contenido o para realizar una operación con el mismo."
      ],
      "metadata": {
        "id": "c_OSPMC3l9YH"
      }
    },
    {
      "cell_type": "code",
      "source": [
        "A\n"
      ],
      "metadata": {
        "colab": {
          "base_uri": "https://localhost:8080/"
        },
        "id": "zAKZBucalvJB",
        "outputId": "cbb530de-038f-4e2a-f669-501171d5b772"
      },
      "execution_count": 2,
      "outputs": [
        {
          "output_type": "execute_result",
          "data": {
            "text/plain": [
              "1"
            ]
          },
          "metadata": {},
          "execution_count": 2
        }
      ]
    },
    {
      "cell_type": "code",
      "source": [
        "A+6"
      ],
      "metadata": {
        "colab": {
          "base_uri": "https://localhost:8080/"
        },
        "id": "2oibYO6dmn_m",
        "outputId": "6b8edc82-3be4-468e-fc3d-fe57e51ffa42"
      },
      "execution_count": 3,
      "outputs": [
        {
          "output_type": "execute_result",
          "data": {
            "text/plain": [
              "7"
            ]
          },
          "metadata": {},
          "execution_count": 3
        }
      ]
    },
    {
      "cell_type": "markdown",
      "source": [
        "Al correr una linea con el nombre del objeto, la consola del programa nos muestra su contenido. Entre Corchetes Observamos el número de orden del elemento en cuestión.\n"
      ],
      "metadata": {
        "id": "8qffDu0nmeEl"
      }
    },
    {
      "cell_type": "code",
      "source": [
        "B = 2\n",
        "B"
      ],
      "metadata": {
        "colab": {
          "base_uri": "https://localhost:8080/"
        },
        "id": "jp6Vpv2-noEc",
        "outputId": "ef88f70f-6aa1-4754-8e78-5cd574f1e7f3"
      },
      "execution_count": 6,
      "outputs": [
        {
          "output_type": "execute_result",
          "data": {
            "text/plain": [
              "2"
            ]
          },
          "metadata": {},
          "execution_count": 6
        }
      ]
    },
    {
      "cell_type": "markdown",
      "source": [
        "**=** es un operador Unidireccional, es decir que:\n",
        "A = B implica que A va tomar como valor el contenido del objeto B, y no al revés."
      ],
      "metadata": {
        "id": "-cP3hIyZn6dT"
      }
    },
    {
      "cell_type": "code",
      "source": [
        "A = B\n",
        "A  #Ahora A toma el valor de B, y B continua conservando el mismo valor"
      ],
      "metadata": {
        "colab": {
          "base_uri": "https://localhost:8080/"
        },
        "id": "uhBtkA3WoC5T",
        "outputId": "493dd1ae-3317-41d3-f4c7-a55cd72f9f2b"
      },
      "execution_count": 8,
      "outputs": [
        {
          "output_type": "execute_result",
          "data": {
            "text/plain": [
              "2"
            ]
          },
          "metadata": {},
          "execution_count": 8
        }
      ]
    },
    {
      "cell_type": "code",
      "source": [
        "B"
      ],
      "metadata": {
        "colab": {
          "base_uri": "https://localhost:8080/"
        },
        "id": "HxLslz-ooddC",
        "outputId": "ebbb4985-a900-4077-b7f3-70db815266dd"
      },
      "execution_count": 9,
      "outputs": [
        {
          "output_type": "execute_result",
          "data": {
            "text/plain": [
              "2"
            ]
          },
          "metadata": {},
          "execution_count": 9
        }
      ]
    },
    {
      "cell_type": "markdown",
      "source": [
        ""
      ],
      "metadata": {
        "id": "RIpfYONvogWq"
      }
    }
  ]
}